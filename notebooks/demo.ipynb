{
 "cells": [
  {
   "cell_type": "markdown",
   "metadata": {},
   "source": [
    "# Medication Extractor Demo\n",
    "\n",
    "This notebook was prepared by Erik Nyquist (enyquis1) for use in EN.705.603.81.FA22."
   ]
  },
  {
   "cell_type": "markdown",
   "metadata": {},
   "source": [
    "This notebook provides a lightweight demo environment for `MedicationExtractor`. Users can change the text and run the following cell to see the extraction in action."
   ]
  },
  {
   "cell_type": "code",
   "execution_count": 1,
   "metadata": {},
   "outputs": [],
   "source": [
    "from medication_extractor.utils import get_medication_mapping"
   ]
  },
  {
   "cell_type": "code",
   "execution_count": 2,
   "metadata": {},
   "outputs": [],
   "source": [
    "text = \"\"\"A numbing and desensitizing agent, lidocaine “mutes” pain signals. It is sold under product names such as Salonpas patches, Aspercreme with Lidocaine, and Icy hot with Lidocaine.\n",
    "\n",
    "Pros: Lidocaine is an effective anesthetic for arthritis and musculoskeletal pain and is available in both over-the-counter and prescription strengths.\n",
    "\n",
    "Cons: Overuse can lead to serious side effects such as irregular heartbeat, so it’s important to follow manufacturer’s instructions.\n",
    "\n",
    "Also, lidocaine should not be used in combination with heat packs or cold compresses. The numbing action of lidocaine diminishes your sense of hot and cold, which can result in accidental burns or damaged skin.\"\"\""
   ]
  },
  {
   "cell_type": "code",
   "execution_count": 3,
   "metadata": {},
   "outputs": [
    {
     "data": {
      "text/plain": [
       "{'lidocaine': '6387', 'Gelato Anesthetic': '727985'}"
      ]
     },
     "execution_count": 3,
     "metadata": {},
     "output_type": "execute_result"
    }
   ],
   "source": [
    "get_medication_mapping(text)"
   ]
  },
  {
   "cell_type": "code",
   "execution_count": null,
   "metadata": {},
   "outputs": [],
   "source": []
  }
 ],
 "metadata": {
  "kernelspec": {
   "display_name": "Python 3.10.6 ('venv': venv)",
   "language": "python",
   "name": "python3"
  },
  "language_info": {
   "codemirror_mode": {
    "name": "ipython",
    "version": 3
   },
   "file_extension": ".py",
   "mimetype": "text/x-python",
   "name": "python",
   "nbconvert_exporter": "python",
   "pygments_lexer": "ipython3",
   "version": "3.10.6"
  },
  "orig_nbformat": 4,
  "vscode": {
   "interpreter": {
    "hash": "fcc5c569a34184f3b6e6fd24786e7bc2c44412d8dfa6f7cc8d3a07cdb50c8804"
   }
  }
 },
 "nbformat": 4,
 "nbformat_minor": 2
}
