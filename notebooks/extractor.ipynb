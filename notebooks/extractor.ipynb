{
 "cells": [
  {
   "cell_type": "markdown",
   "metadata": {},
   "source": [
    "# Medication Extractor\n",
    "\n",
    "This notebook was prepared by Erik Nyquist (enyquis1) for use in EN.705.603.81.FA22."
   ]
  },
  {
   "cell_type": "markdown",
   "metadata": {},
   "source": [
    "This notebook explores the functionality of `MedicationExtractor`. `MedicationExtractor` leverages a spaCy model [en_core_med7_lg](https://huggingface.co/kormilitzin/en_core_med7_lg/blob/main/README.md) to extract drug names from text.\n",
    "\n",
    "Let's instansiate an instance of `MedicationExtractor` and demonstrate some core capabilities."
   ]
  },
  {
   "cell_type": "code",
   "execution_count": 1,
   "metadata": {
    "execution": {
     "iopub.execute_input": "2022-11-14T14:46:34.262166Z",
     "iopub.status.busy": "2022-11-14T14:46:34.261873Z",
     "iopub.status.idle": "2022-11-14T14:46:35.681923Z",
     "shell.execute_reply": "2022-11-14T14:46:35.681152Z"
    }
   },
   "outputs": [],
   "source": [
    "import sys\n",
    "sys.path.append(\"..\")\n",
    "\n",
    "from medication_extractor.extractor import MedicationExtractor\n",
    "extractor = MedicationExtractor()"
   ]
  },
  {
   "cell_type": "code",
   "execution_count": 2,
   "metadata": {
    "execution": {
     "iopub.execute_input": "2022-11-14T14:46:35.685905Z",
     "iopub.status.busy": "2022-11-14T14:46:35.685633Z",
     "iopub.status.idle": "2022-11-14T14:46:35.698865Z",
     "shell.execute_reply": "2022-11-14T14:46:35.698149Z"
    }
   },
   "outputs": [
    {
     "name": "stdout",
     "output_type": "stream",
     "text": [
      "Found 1 mention(s) of medication: ['advil']\n"
     ]
    }
   ],
   "source": [
    "# Simple text with one drug mentioned by its brand name\n",
    "text = \"I took advil after I hurt my wrist\"\n",
    "medications = extractor.extract(text)\n",
    "print(f\"Found {len(medications)} mention(s) of medication: {medications}\")"
   ]
  },
  {
   "cell_type": "code",
   "execution_count": 3,
   "metadata": {
    "execution": {
     "iopub.execute_input": "2022-11-14T14:46:35.751014Z",
     "iopub.status.busy": "2022-11-14T14:46:35.750621Z",
     "iopub.status.idle": "2022-11-14T14:46:35.770589Z",
     "shell.execute_reply": "2022-11-14T14:46:35.769523Z"
    }
   },
   "outputs": [
    {
     "name": "stdout",
     "output_type": "stream",
     "text": [
      "Found 1 mention(s) of medication: ['ibuprofen']\n"
     ]
    }
   ],
   "source": [
    "# Simple text with one drug mentioned by its generic name\n",
    "text = \"I took ibuprofen after I hurt my wrist\"\n",
    "medications = extractor.extract(text)\n",
    "print(f\"Found {len(medications)} mention(s) of medication: {medications}\")"
   ]
  },
  {
   "cell_type": "code",
   "execution_count": 4,
   "metadata": {
    "execution": {
     "iopub.execute_input": "2022-11-14T14:46:35.774567Z",
     "iopub.status.busy": "2022-11-14T14:46:35.773979Z",
     "iopub.status.idle": "2022-11-14T14:46:35.793947Z",
     "shell.execute_reply": "2022-11-14T14:46:35.793092Z"
    }
   },
   "outputs": [
    {
     "name": "stdout",
     "output_type": "stream",
     "text": [
      "Found 0 mention(s) of medication: []\n"
     ]
    }
   ],
   "source": [
    "# Simple text with no drugs mentioned\n",
    "text = \"I hurt my wrist but didn't take anything\"\n",
    "medications = extractor.extract(text)\n",
    "print(f\"Found {len(medications)} mention(s) of medication: {medications}\")"
   ]
  },
  {
   "cell_type": "code",
   "execution_count": 5,
   "metadata": {
    "execution": {
     "iopub.execute_input": "2022-11-14T14:46:35.797319Z",
     "iopub.status.busy": "2022-11-14T14:46:35.797108Z",
     "iopub.status.idle": "2022-11-14T14:46:35.821516Z",
     "shell.execute_reply": "2022-11-14T14:46:35.820549Z"
    }
   },
   "outputs": [
    {
     "name": "stdout",
     "output_type": "stream",
     "text": [
      "Found 3 mention(s) of medication: ['midazolam', 'percocet', 'Aleve']\n"
     ]
    }
   ],
   "source": [
    "# Complex text with multiple drugs mentioned\n",
    "text = \"\"\"\n",
    "Prior to surgery, the patient was prescribed midazolam. \n",
    "Patient prescribed percocet, 10mg/kg for three days to be taken twice daily orally.\n",
    "Patient advised to take Aleve as needed.\n",
    "Patient scheduled for follow up appointment in two weeks.\n",
    "\"\"\"\n",
    "medications = extractor.extract(text)\n",
    "print(f\"Found {len(medications)} mention(s) of medication: {medications}\")"
   ]
  },
  {
   "cell_type": "markdown",
   "metadata": {},
   "source": [
    "This concludes the demonstration of `MedicationExtractor`."
   ]
  },
  {
   "cell_type": "code",
   "execution_count": null,
   "metadata": {},
   "outputs": [],
   "source": []
  }
 ],
 "metadata": {
  "kernelspec": {
   "display_name": "Python 3.10.6 ('venv': venv)",
   "language": "python",
   "name": "python3"
  },
  "language_info": {
   "codemirror_mode": {
    "name": "ipython",
    "version": 3
   },
   "file_extension": ".py",
   "mimetype": "text/x-python",
   "name": "python",
   "nbconvert_exporter": "python",
   "pygments_lexer": "ipython3",
   "version": "3.10.6"
  },
  "vscode": {
   "interpreter": {
    "hash": "fcc5c569a34184f3b6e6fd24786e7bc2c44412d8dfa6f7cc8d3a07cdb50c8804"
   }
  }
 },
 "nbformat": 4,
 "nbformat_minor": 2
}
