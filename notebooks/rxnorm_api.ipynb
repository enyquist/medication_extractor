{
 "cells": [
  {
   "cell_type": "markdown",
   "metadata": {},
   "source": [
    "# RXNorm API\n",
    "\n",
    "This notebook was prepared by Erik Nyquist (enyquis1) for use in EN.705.603.81.FA22."
   ]
  },
  {
   "cell_type": "markdown",
   "metadata": {},
   "source": [
    "This notebook explores the functionality of `RXNormAPI`. \n",
    "\n",
    "`RXNormAPI` queries the [RXNorm API](https://lhncbc.nlm.nih.gov/RxNav/APIs/RxNormAPIs.html?_gl=1*r0w82g*_ga*MTIxNzQzMTQxMS4xNjY4MzA5MzQ4*_ga_P1FPTH9PL4*MTY2ODMwOTM0Ny4xLjAuMTY2ODMwOTM0Ny4wLjAuMA..) to map a drug name to its RXNorm CUI identification code.\n",
    "\n",
    "Let's instansiate an instance of `RXNormAPI` and demonstrate some core capabilities."
   ]
  },
  {
   "cell_type": "code",
   "execution_count": 1,
   "metadata": {
    "execution": {
     "iopub.execute_input": "2022-11-14T14:46:36.870235Z",
     "iopub.status.busy": "2022-11-14T14:46:36.869861Z",
     "iopub.status.idle": "2022-11-14T14:46:37.203450Z",
     "shell.execute_reply": "2022-11-14T14:46:37.202545Z"
    }
   },
   "outputs": [
    {
     "data": {
      "text/plain": [
       "{'approximateGroup': {'inputTerm': None,\n",
       "  'candidate': [{'rxcui': '153010',\n",
       "    'rxaui': '1003945',\n",
       "    'score': '11.109882354736328',\n",
       "    'rank': '1',\n",
       "    'source': 'MMSL'},\n",
       "   {'rxcui': '153010',\n",
       "    'rxaui': '1003946',\n",
       "    'score': '11.109882354736328',\n",
       "    'rank': '1',\n",
       "    'name': 'Advil',\n",
       "    'source': 'RXNORM'},\n",
       "   {'rxcui': '153010',\n",
       "    'rxaui': '12774003',\n",
       "    'score': '11.109882354736328',\n",
       "    'rank': '1',\n",
       "    'name': 'Advil',\n",
       "    'source': 'MSH'}]}}"
      ]
     },
     "execution_count": 1,
     "metadata": {},
     "output_type": "execute_result"
    }
   ],
   "source": [
    "from medication_extractor.rxnorm_api import RXNormAPI\n",
    "\n",
    "query = RXNormAPI().get_approximate_match(\"advil\")\n",
    "query"
   ]
  },
  {
   "cell_type": "markdown",
   "metadata": {},
   "source": [
    "This is the output from `RXNormAPI`. We are specifically interested in the \"rxcui\" code in the second dictionary where \"source\" is equal to \"RXNORM\". Let's extract that."
   ]
  },
  {
   "cell_type": "code",
   "execution_count": 2,
   "metadata": {
    "execution": {
     "iopub.execute_input": "2022-11-14T14:46:37.207020Z",
     "iopub.status.busy": "2022-11-14T14:46:37.206682Z",
     "iopub.status.idle": "2022-11-14T14:46:37.213206Z",
     "shell.execute_reply": "2022-11-14T14:46:37.212357Z"
    }
   },
   "outputs": [
    {
     "data": {
      "text/plain": [
       "{'rxcui': '153010',\n",
       " 'rxaui': '1003946',\n",
       " 'score': '11.109882354736328',\n",
       " 'rank': '1',\n",
       " 'name': 'Advil',\n",
       " 'source': 'RXNORM'}"
      ]
     },
     "execution_count": 2,
     "metadata": {},
     "output_type": "execute_result"
    }
   ],
   "source": [
    "candiates = query['approximateGroup']['candidate']\n",
    "rxnorm_val = next((item for item in candiates if item['source'] == \"RXNORM\"), None)\n",
    "rxnorm_val"
   ]
  },
  {
   "cell_type": "code",
   "execution_count": 3,
   "metadata": {
    "execution": {
     "iopub.execute_input": "2022-11-14T14:46:37.216650Z",
     "iopub.status.busy": "2022-11-14T14:46:37.216321Z",
     "iopub.status.idle": "2022-11-14T14:46:37.222081Z",
     "shell.execute_reply": "2022-11-14T14:46:37.221207Z"
    }
   },
   "outputs": [
    {
     "data": {
      "text/plain": [
       "'153010'"
      ]
     },
     "execution_count": 3,
     "metadata": {},
     "output_type": "execute_result"
    }
   ],
   "source": [
    "rxnorm_val[\"rxcui\"]"
   ]
  },
  {
   "cell_type": "markdown",
   "metadata": {},
   "source": [
    "Now let's package this process up for easy reuse."
   ]
  },
  {
   "cell_type": "code",
   "execution_count": 4,
   "metadata": {
    "execution": {
     "iopub.execute_input": "2022-11-14T14:46:37.225786Z",
     "iopub.status.busy": "2022-11-14T14:46:37.225450Z",
     "iopub.status.idle": "2022-11-14T14:46:37.232279Z",
     "shell.execute_reply": "2022-11-14T14:46:37.231390Z"
    }
   },
   "outputs": [],
   "source": [
    "# standard libaries\n",
    "from typing import Dict, List\n",
    "\n",
    "\n",
    "def map_medications(medications: List[str]) -> Dict[str, str]:\n",
    "    \"\"\"Map a list of medication extracted by `MedicationExtractor`\n",
    "    to their RXNorm CUI codes\n",
    "\n",
    "    Args:\n",
    "        medications (List[str]): List of medications\n",
    "\n",
    "    Returns:\n",
    "        Dict[str, str]: Mapping {Medication: RXCUI}\n",
    "    \"\"\"\n",
    "    mapping_dict = {}\n",
    "\n",
    "    for medication in medications:\n",
    "        results = RXNormAPI().get_approximate_match(medication)\n",
    "        if results and \"candidate\" in results[\"approximateGroup\"]:\n",
    "            candiates = results[\"approximateGroup\"][\"candidate\"]\n",
    "            rxnorm_val = next((item for item in candiates if item[\"source\"] == \"RXNORM\"), None)\n",
    "            mapping_dict[rxnorm_val[\"name\"]] = rxnorm_val[\"rxcui\"]\n",
    "\n",
    "    return mapping_dict"
   ]
  },
  {
   "cell_type": "code",
   "execution_count": 5,
   "metadata": {
    "execution": {
     "iopub.execute_input": "2022-11-14T14:46:37.235947Z",
     "iopub.status.busy": "2022-11-14T14:46:37.235615Z",
     "iopub.status.idle": "2022-11-14T14:46:37.439551Z",
     "shell.execute_reply": "2022-11-14T14:46:37.438833Z"
    }
   },
   "outputs": [
    {
     "data": {
      "text/plain": [
       "{'Advil': '153010'}"
      ]
     },
     "execution_count": 5,
     "metadata": {},
     "output_type": "execute_result"
    }
   ],
   "source": [
    "map_medications([\"advil\"])"
   ]
  },
  {
   "cell_type": "code",
   "execution_count": 6,
   "metadata": {
    "execution": {
     "iopub.execute_input": "2022-11-14T14:46:37.442766Z",
     "iopub.status.busy": "2022-11-14T14:46:37.442496Z",
     "iopub.status.idle": "2022-11-14T14:46:37.841046Z",
     "shell.execute_reply": "2022-11-14T14:46:37.840389Z"
    }
   },
   "outputs": [
    {
     "data": {
      "text/plain": [
       "{'Advil': '153010', 'Tylenol': '202433'}"
      ]
     },
     "execution_count": 6,
     "metadata": {},
     "output_type": "execute_result"
    }
   ],
   "source": [
    "map_medications([\"advil\", \"tylenol\"])"
   ]
  },
  {
   "cell_type": "code",
   "execution_count": 7,
   "metadata": {
    "execution": {
     "iopub.execute_input": "2022-11-14T14:46:37.844374Z",
     "iopub.status.busy": "2022-11-14T14:46:37.844052Z",
     "iopub.status.idle": "2022-11-14T14:46:38.542963Z",
     "shell.execute_reply": "2022-11-14T14:46:38.542189Z"
    }
   },
   "outputs": [
    {
     "data": {
      "text/plain": [
       "{'midazolam': '6960', 'Percocet': '42844', 'Aleve': '215101'}"
      ]
     },
     "execution_count": 7,
     "metadata": {},
     "output_type": "execute_result"
    }
   ],
   "source": [
    "map_medications(['midazolam', 'percocet', 'Aleve'])"
   ]
  },
  {
   "cell_type": "markdown",
   "metadata": {},
   "source": [
    "Now, after medications have been extracted by `MedicationExtractor`, we have a nice way to retrieve their RXNorm CUI codes from the database."
   ]
  },
  {
   "cell_type": "code",
   "execution_count": null,
   "metadata": {},
   "outputs": [],
   "source": []
  }
 ],
 "metadata": {
  "kernelspec": {
   "display_name": "Python 3.10.6 ('venv': venv)",
   "language": "python",
   "name": "python3"
  },
  "language_info": {
   "codemirror_mode": {
    "name": "ipython",
    "version": 3
   },
   "file_extension": ".py",
   "mimetype": "text/x-python",
   "name": "python",
   "nbconvert_exporter": "python",
   "pygments_lexer": "ipython3",
   "version": "3.10.6"
  },
  "vscode": {
   "interpreter": {
    "hash": "fcc5c569a34184f3b6e6fd24786e7bc2c44412d8dfa6f7cc8d3a07cdb50c8804"
   }
  }
 },
 "nbformat": 4,
 "nbformat_minor": 2
}
