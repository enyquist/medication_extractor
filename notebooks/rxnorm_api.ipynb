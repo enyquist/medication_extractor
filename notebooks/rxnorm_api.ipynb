{
 "cells": [
  {
   "cell_type": "markdown",
   "metadata": {},
   "source": [
    "<a id=\"RXNorm API\"></a>\n",
    "# RXNorm API\n",
    "\n",
    "This notebook was prepared by Erik Nyquist (enyquis1) for use in EN.705.603.81.FA22."
   ]
  },
  {
   "cell_type": "markdown",
   "metadata": {},
   "source": [
    "This notebook explores the functionality of `RXNormAPI`. `RXNormAPI` queries the [RXNorm API](https://lhncbc.nlm.nih.gov/RxNav/APIs/RxNormAPIs.html?_gl=1*r0w82g*_ga*MTIxNzQzMTQxMS4xNjY4MzA5MzQ4*_ga_P1FPTH9PL4*MTY2ODMwOTM0Ny4xLjAuMTY2ODMwOTM0Ny4wLjAuMA..) to map a drug name to its RXNorm CUI identification code.\n",
    "\n",
    "Let's instansiate an instance of `RXNormAPI` and demonstrate some core capabilities."
   ]
  },
  {
   "cell_type": "code",
   "execution_count": 1,
   "metadata": {},
   "outputs": [],
   "source": [
    "import sys\n",
    "sys.path.append(\"..\")"
   ]
  },
  {
   "cell_type": "code",
   "execution_count": 3,
   "metadata": {},
   "outputs": [
    {
     "data": {
      "text/plain": [
       "{'approximateGroup': {'inputTerm': None,\n",
       "  'candidate': [{'rxcui': '153010',\n",
       "    'rxaui': '1003945',\n",
       "    'score': '11.108091354370117',\n",
       "    'rank': '1',\n",
       "    'source': 'MMSL'},\n",
       "   {'rxcui': '153010',\n",
       "    'rxaui': '1003946',\n",
       "    'score': '11.108091354370117',\n",
       "    'rank': '1',\n",
       "    'name': 'Advil',\n",
       "    'source': 'RXNORM'},\n",
       "   {'rxcui': '153010',\n",
       "    'rxaui': '12774003',\n",
       "    'score': '11.108091354370117',\n",
       "    'rank': '1',\n",
       "    'name': 'Advil',\n",
       "    'source': 'MSH'}]}}"
      ]
     },
     "execution_count": 3,
     "metadata": {},
     "output_type": "execute_result"
    }
   ],
   "source": [
    "from medication_extractor.rxnorm_api import RXNormAPI\n",
    "\n",
    "query = RXNormAPI().get_approximate_match(\"advil\")\n",
    "query"
   ]
  },
  {
   "cell_type": "markdown",
   "metadata": {},
   "source": [
    "This is the output from `RXNormAPI`. We are specifically interested in the \"rxcui\" code in the second dictionary where \"source\" is equal to \"RXNROM\". Let's extract that."
   ]
  },
  {
   "cell_type": "code",
   "execution_count": 4,
   "metadata": {},
   "outputs": [
    {
     "data": {
      "text/plain": [
       "{'rxcui': '153010',\n",
       " 'rxaui': '1003946',\n",
       " 'score': '11.108091354370117',\n",
       " 'rank': '1',\n",
       " 'name': 'Advil',\n",
       " 'source': 'RXNORM'}"
      ]
     },
     "execution_count": 4,
     "metadata": {},
     "output_type": "execute_result"
    }
   ],
   "source": [
    "candiates = query['approximateGroup']['candidate']\n",
    "rxnorm_val = next((item for item in candiates if item['source'] == \"RXNORM\"), None)\n",
    "rxnorm_val"
   ]
  },
  {
   "cell_type": "code",
   "execution_count": 5,
   "metadata": {},
   "outputs": [
    {
     "data": {
      "text/plain": [
       "'153010'"
      ]
     },
     "execution_count": 5,
     "metadata": {},
     "output_type": "execute_result"
    }
   ],
   "source": [
    "rxnorm_val[\"rxcui\"]"
   ]
  },
  {
   "cell_type": "markdown",
   "metadata": {},
   "source": [
    "Now let's package this process up for easy reuse."
   ]
  },
  {
   "cell_type": "code",
   "execution_count": 6,
   "metadata": {},
   "outputs": [],
   "source": [
    "# standard libaries\n",
    "from typing import Dict, List\n",
    "\n",
    "\n",
    "def map_medications(medications: List[str]) -> Dict[str, str]:\n",
    "    \"\"\"Map a list of medication extracted by `MedicationExtractor` \n",
    "    to their RXNorm CUI codes\n",
    "\n",
    "    Args:\n",
    "        medications (List[str]): List of medications\n",
    "\n",
    "    Returns:\n",
    "        Dict[str, str]: Mapping {Medication: RXCUI}\n",
    "    \"\"\"\n",
    "    mapping_dict = {}\n",
    "    \n",
    "    for medication in medications:\n",
    "        results = RXNormAPI().get_approximate_match(medication)\n",
    "        candiates = results['approximateGroup']['candidate']\n",
    "        rxnorm_val = next((item for item in candiates if item['source'] == \"RXNORM\"), None)\n",
    "        mapping_dict[rxnorm_val[\"name\"]] = rxnorm_val[\"rxcui\"]\n",
    "\n",
    "    return mapping_dict"
   ]
  },
  {
   "cell_type": "code",
   "execution_count": 7,
   "metadata": {},
   "outputs": [
    {
     "data": {
      "text/plain": [
       "{'Advil': '153010'}"
      ]
     },
     "execution_count": 7,
     "metadata": {},
     "output_type": "execute_result"
    }
   ],
   "source": [
    "map_medications([\"advil\"])"
   ]
  },
  {
   "cell_type": "code",
   "execution_count": 8,
   "metadata": {},
   "outputs": [
    {
     "data": {
      "text/plain": [
       "{'Advil': '153010', 'Tylenol': '202433'}"
      ]
     },
     "execution_count": 8,
     "metadata": {},
     "output_type": "execute_result"
    }
   ],
   "source": [
    "map_medications([\"advil\", \"tylenol\"])"
   ]
  },
  {
   "cell_type": "code",
   "execution_count": 10,
   "metadata": {},
   "outputs": [
    {
     "data": {
      "text/plain": [
       "{'midazolam': '6960', 'Percocet': '42844', 'Aleve': '215101'}"
      ]
     },
     "execution_count": 10,
     "metadata": {},
     "output_type": "execute_result"
    }
   ],
   "source": [
    "map_medications(['midazolam', 'percocet', 'Aleve'])"
   ]
  },
  {
   "cell_type": "markdown",
   "metadata": {},
   "source": [
    "Now, after medications have been extracted by `MedicationExtractor`, we have a nice way to retrieve their RXNorm CUI codes from the database."
   ]
  },
  {
   "cell_type": "code",
   "execution_count": null,
   "metadata": {},
   "outputs": [],
   "source": []
  }
 ],
 "metadata": {
  "kernelspec": {
   "display_name": "Python 3.10.6 ('venv': venv)",
   "language": "python",
   "name": "python3"
  },
  "language_info": {
   "codemirror_mode": {
    "name": "ipython",
    "version": 3
   },
   "file_extension": ".py",
   "mimetype": "text/x-python",
   "name": "python",
   "nbconvert_exporter": "python",
   "pygments_lexer": "ipython3",
   "version": "3.10.6"
  },
  "orig_nbformat": 4,
  "vscode": {
   "interpreter": {
    "hash": "fcc5c569a34184f3b6e6fd24786e7bc2c44412d8dfa6f7cc8d3a07cdb50c8804"
   }
  }
 },
 "nbformat": 4,
 "nbformat_minor": 2
}
